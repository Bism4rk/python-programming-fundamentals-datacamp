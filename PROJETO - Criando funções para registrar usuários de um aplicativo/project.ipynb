{
 "cells": [
  {
   "cell_type": "code",
   "execution_count": null,
   "id": "026d68b7",
   "metadata": {},
   "outputs": [],
   "source": [
    "# Re-run this cell and examine the docstring of each function\n",
    "from python_functions import validate_name, validate_email, validate_password, top_level_domains # type: ignore\n",
    "\n",
    "print(\"validate_name\\n\")\n",
    "print(validate_name.__doc__)\n",
    "print(\"--------------------\\n\")\n",
    "\n",
    "print(\"validate_email\\n\")\n",
    "print(validate_email.__doc__) \n",
    "print(\"--------------------\\n\")\n",
    "\n",
    "print(\"validate_password\\n\")\n",
    "print(validate_password.__doc__)\n",
    "\n",
    "# The top level domains variable is used in validate_email to approve only certain email domains\n",
    "print(top_level_domains)"
   ]
  },
  {
   "cell_type": "code",
   "execution_count": null,
   "id": "0dd2d965",
   "metadata": {},
   "outputs": [],
   "source": [
    "# Start coding here\n",
    "# Use as many cells as you need"
   ]
  },
  {
   "cell_type": "code",
   "execution_count": null,
   "id": "7faebdbe",
   "metadata": {},
   "outputs": [],
   "source": [
    "def validate_user(name, email, password):\n",
    "    if validate_name(name) == False:\n",
    "        raise ValueError('Invalid name')\n",
    "    elif validate_email(email) == False:\n",
    "        raise ValueError('Invalid email')\n",
    "    elif validate_password(password) == False:\n",
    "        raise ValueError('Invalid password')\n",
    "    else: \n",
    "        return True"
   ]
  },
  {
   "cell_type": "code",
   "execution_count": null,
   "id": "7e000de3",
   "metadata": {},
   "outputs": [],
   "source": [
    "def register_user(name, email, password):\n",
    "    try:\n",
    "        validate_user(name, email, password)\n",
    "    except ValueError:\n",
    "        return False;\n",
    "    user = {'name': name, 'email': email, 'password': password}\n",
    "    return user;"
   ]
  }
 ],
 "metadata": {
  "language_info": {
   "name": "python"
  }
 },
 "nbformat": 4,
 "nbformat_minor": 5
}
